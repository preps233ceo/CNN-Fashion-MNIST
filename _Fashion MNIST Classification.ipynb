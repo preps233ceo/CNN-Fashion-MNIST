{
 "cells": [
  {
   "cell_type": "code",
   "execution_count": null,
   "id": "83adddce-01ee-44a8-8368-430ad3e80786",
   "metadata": {},
   "outputs": [],
   "source": [
    "# Lo"
   ]
  },
  {
   "cell_type": "code",
   "execution_count": null,
   "id": "8bb1584f-a7e1-4f46-ac99-97e68bebbf4d",
   "metadata": {},
   "outputs": [],
   "source": [
    "import tensorflow as tf\n",
    "from tensorflow.keras.models import Sequential\n",
    "from tensorflow.keras.layers import Conv2D, MaxPooling2D, Flatten, Dense, Dropout\n",
    "from tensorflow.keras.datasets import fashion_mnist\n",
    "import numpy as np\n",
    "import matplotlib.pyplot as plt"
   ]
  },
  {
   "cell_type": "markdown",
   "id": "7fae08d7-3447-4c63-bc22-c05bc948c7fa",
   "metadata": {},
   "source": [
    "# Load and preprocess the Fashion MNIST dataset"
   ]
  },
  {
   "cell_type": "code",
   "execution_count": null,
   "id": "d1aa1bd1-c02c-4297-9092-caa97711b118",
   "metadata": {},
   "outputs": [],
   "source": [
    "(x_train, y_train), (x_test, y_test) = fashion_mnist.load_data()  # Load the dataset into training and test sets\n",
    "x_train = x_train.reshape(-1, 28, 28, 1).astype('float32') / 255.0  # Reshape and normalize training images\n",
    "x_test = x_test.reshape(-1, 28, 28, 1).astype('float32') / 255.0  # Reshape and normalize test images\n"
   ]
  },
  {
   "cell_type": "markdown",
   "id": "c6e77155-d33a-406e-b92f-0bb1b0f2acd0",
   "metadata": {},
   "source": [
    "# Define the CNN model"
   ]
  },
  {
   "cell_type": "code",
   "execution_count": null,
   "id": "e2f1ef6a-ef2b-4f8f-9552-b7a2bc54ef3a",
   "metadata": {},
   "outputs": [],
   "source": [
    "model = Sequential([  # Initialize a sequential model\n",
    "    Conv2D(32, kernel_size=(3, 3), activation='relu', input_shape=(28, 28, 1)),  # First convolutional layer with 32 filters\n",
    "    MaxPooling2D(pool_size=(2, 2)),  # First max pooling layer\n",
    "    Conv2D(64, kernel_size=(3, 3), activation='relu'),  # Second convolutional layer with 64 filters\n",
    "    MaxPooling2D(pool_size=(2, 2)),  # Second max pooling layer\n",
    "    Conv2D(128, kernel_size=(3, 3), activation='relu'),  # Third convolutional layer with 128 filters\n",
    "    Flatten(),  # Flatten the output from the convolutional layers\n",
    "    Dense(128, activation='relu'),  # Fully connected layer with 128 neurons\n",
    "    Dropout(0.5),  # Dropout layer to prevent overfitting\n",
    "    Dense(10, activation='softmax')  # Output layer with 10 neurons for classification\n",
    "])"
   ]
  },
  {
   "cell_type": "markdown",
   "id": "bdec9f1a-79e0-4ed3-a3d1-57197428a440",
   "metadata": {},
   "source": [
    "# Compile the model"
   ]
  },
  {
   "cell_type": "code",
   "execution_count": null,
   "id": "c1700071-9e20-4164-89ec-f1ab4089bf12",
   "metadata": {},
   "outputs": [],
   "source": [
    "model.compile(optimizer='adam', loss='sparse_categorical_crossentropy', metrics=['accuracy']) # Compile the model with Adam optimizer and sparse categorical cross-entropy loss"
   ]
  },
  {
   "cell_type": "markdown",
   "id": "686d1cbd-677b-4fee-92b6-59ced354320d",
   "metadata": {},
   "source": [
    "# Train the model"
   ]
  },
  {
   "cell_type": "code",
   "execution_count": null,
   "id": "92cb069e-a13b-4996-82cf-78e416ce50b9",
   "metadata": {},
   "outputs": [],
   "source": [
    "model.fit(x_train, y_train, epochs=10, batch_size=64, validation_split=0.2)  # Train the model with 10 epochs and batch size of 64, using 20% of training data for validation"
   ]
  },
  {
   "cell_type": "markdown",
   "id": "608144ea-bb7c-42e6-b34e-aae04bd42134",
   "metadata": {},
   "source": [
    "# Evaluate the model"
   ]
  },
  {
   "cell_type": "code",
   "execution_count": null,
   "id": "2dc8cf72-b7fb-4500-bc55-ec17242220f2",
   "metadata": {},
   "outputs": [],
   "source": [
    "test_loss, test_acc = model.evaluate(x_test, y_test)  # Evaluate the model on the test set\n",
    "print(f'Test accuracy: {test_acc}')  # Print the test accuracy"
   ]
  },
  {
   "cell_type": "markdown",
   "id": "dd3838cc-648f-400d-89f7-929005565b9a",
   "metadata": {},
   "source": [
    "# Make predictions for two images"
   ]
  },
  {
   "cell_type": "code",
   "execution_count": null,
   "id": "775db743-c41d-4a14-9247-8928d4f79a7d",
   "metadata": {},
   "outputs": [],
   "source": [
    "def predict_images(images, labels):\n",
    "    predictions = model.predict(images)  # Make predictions on the provided images\n",
    "    for i in range(len(images)):\n",
    "        plt.imshow(images[i].reshape(28, 28), cmap='gray')  # Display the image in grayscale\n",
    "        plt.title(f'Actual: {labels[i]}, Predicted: {np.argmax(predictions[i])}')  # Display the actual and predicted labels\n",
    "        plt.show()  # Show the plot\n",
    "\n",
    "sample_images = x_test[:2]  # Select the first two images from the test set\n",
    "sample_labels = y_test[:2]  # Select the corresponding labels for the first two images\n",
    "predict_images(sample_images, sample_labels)  # Call the function to display predictions for the selected images"
   ]
  },
  {
   "cell_type": "code",
   "execution_count": null,
   "id": "d181b3b9-cb75-4bc6-b067-c8e66d758f07",
   "metadata": {},
   "outputs": [],
   "source": []
  }
 ],
 "metadata": {
  "kernelspec": {
   "display_name": "Python 3 (ipykernel)",
   "language": "python",
   "name": "python3"
  },
  "language_info": {
   "codemirror_mode": {
    "name": "ipython",
    "version": 3
   },
   "file_extension": ".py",
   "mimetype": "text/x-python",
   "name": "python",
   "nbconvert_exporter": "python",
   "pygments_lexer": "ipython3",
   "version": "3.11.5"
  }
 },
 "nbformat": 4,
 "nbformat_minor": 5
}
